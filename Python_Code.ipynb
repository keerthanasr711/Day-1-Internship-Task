{
 "cells": [
  {
   "cell_type": "code",
   "execution_count": 6,
   "id": "46ad3931-f7dd-4f34-b3a6-24df9e6f88d7",
   "metadata": {},
   "outputs": [
    {
     "name": "stdout",
     "output_type": "stream",
     "text": [
      "Requirement already satisfied: numpy in c:\\users\\hyper\\appdata\\local\\programs\\python\\python313\\lib\\site-packages (2.2.1)\n",
      "Note: you may need to restart the kernel to use updated packages.\n"
     ]
    },
    {
     "name": "stderr",
     "output_type": "stream",
     "text": [
      "\n",
      "[notice] A new release of pip is available: 24.3.1 -> 25.0.1\n",
      "[notice] To update, run: python.exe -m pip install --upgrade pip\n"
     ]
    }
   ],
   "source": [
    "pip install numpy"
   ]
  },
  {
   "cell_type": "code",
   "execution_count": 7,
   "id": "ffbe6368-6113-49ac-a2d2-b4effa86c28e",
   "metadata": {},
   "outputs": [],
   "source": [
    "import pandas as pd\n",
    "import numpy as np"
   ]
  },
  {
   "cell_type": "code",
   "execution_count": 8,
   "id": "d1168585-595e-4b25-9fbd-58f0171cafcb",
   "metadata": {},
   "outputs": [],
   "source": [
    "# This Sales Data.\n",
    "df = pd.read_csv(r'C:\\Users\\hyper\\OneDrive\\Desktop\\Internship\\Task1\\Sales Data.csv')"
   ]
  },
  {
   "cell_type": "code",
   "execution_count": 9,
   "id": "081808f7-9fce-4ea8-827c-e20e85617045",
   "metadata": {},
   "outputs": [
    {
     "data": {
      "text/plain": [
       "(128976, 21)"
      ]
     },
     "execution_count": 9,
     "metadata": {},
     "output_type": "execute_result"
    }
   ],
   "source": [
    "# To check How many Rows and Column in our Data.\n",
    "df.shape"
   ]
  },
  {
   "cell_type": "code",
   "execution_count": 10,
   "id": "42b37d6f-c980-4b17-8c54-3daeb2319e07",
   "metadata": {},
   "outputs": [
    {
     "data": {
      "text/plain": [
       "index                      0\n",
       "Order ID                   0\n",
       "Date                       0\n",
       "Status                     0\n",
       "Fulfilment                 0\n",
       "Sales Channel              0\n",
       "ship-service-level         0\n",
       "Category                   0\n",
       "Size                       0\n",
       "Courier Status             0\n",
       "Qty                        0\n",
       "currency                7800\n",
       "Amount                  7800\n",
       "ship-city                 35\n",
       "ship-state                35\n",
       "ship-postal-code          35\n",
       "ship-country              35\n",
       "B2B                        0\n",
       "fulfilled-by           89713\n",
       "New                   128976\n",
       "PendingS              128976\n",
       "dtype: int64"
      ]
     },
     "execution_count": 10,
     "metadata": {},
     "output_type": "execute_result"
    }
   ],
   "source": [
    "# This code shows total no of null values present in column by column\n",
    "df.isnull().sum()"
   ]
  },
  {
   "cell_type": "code",
   "execution_count": 11,
   "id": "b61cc256-3cb6-45b2-8d9c-f4a97f775d39",
   "metadata": {},
   "outputs": [
    {
     "data": {
      "text/plain": [
       "Index(['index', 'Order ID', 'Date', 'Status', 'Fulfilment', 'Sales Channel',\n",
       "       'ship-service-level', 'Category', 'Size', 'Courier Status', 'Qty',\n",
       "       'currency', 'Amount', 'ship-city', 'ship-state', 'ship-postal-code',\n",
       "       'ship-country', 'B2B', 'fulfilled-by', 'New', 'PendingS'],\n",
       "      dtype='object')"
      ]
     },
     "execution_count": 11,
     "metadata": {},
     "output_type": "execute_result"
    }
   ],
   "source": [
    "# As Checking in New and Pending all values are null so entire column needs to be droped.\n",
    "df.columns"
   ]
  },
  {
   "cell_type": "code",
   "execution_count": 12,
   "id": "15428cd0-7d24-455d-a893-005c085196cb",
   "metadata": {},
   "outputs": [],
   "source": [
    "# Deleting the New and Pendings column and saving it to existing data.\n",
    "df.drop(columns=['New', 'PendingS'],axis = 1, inplace=True)"
   ]
  },
  {
   "cell_type": "code",
   "execution_count": 13,
   "id": "61c4545a-641a-4327-8751-d011c4e0755e",
   "metadata": {},
   "outputs": [
    {
     "data": {
      "text/plain": [
       "Index(['index', 'Order ID', 'Date', 'Status', 'Fulfilment', 'Sales Channel',\n",
       "       'ship-service-level', 'Category', 'Size', 'Courier Status', 'Qty',\n",
       "       'currency', 'Amount', 'ship-city', 'ship-state', 'ship-postal-code',\n",
       "       'ship-country', 'B2B', 'fulfilled-by'],\n",
       "      dtype='object')"
      ]
     },
     "execution_count": 13,
     "metadata": {},
     "output_type": "execute_result"
    }
   ],
   "source": [
    "df.columns"
   ]
  },
  {
   "cell_type": "code",
   "execution_count": 14,
   "id": "e92c802a-182b-4677-b222-e771f8e0b602",
   "metadata": {},
   "outputs": [
    {
     "data": {
      "text/plain": [
       "index                     0\n",
       "Order ID                  0\n",
       "Date                      0\n",
       "Status                    0\n",
       "Fulfilment                0\n",
       "Sales Channel             0\n",
       "ship-service-level        0\n",
       "Category                  0\n",
       "Size                      0\n",
       "Courier Status            0\n",
       "Qty                       0\n",
       "currency               7800\n",
       "Amount                 7800\n",
       "ship-city                35\n",
       "ship-state               35\n",
       "ship-postal-code         35\n",
       "ship-country             35\n",
       "B2B                       0\n",
       "fulfilled-by          89713\n",
       "dtype: int64"
      ]
     },
     "execution_count": 14,
     "metadata": {},
     "output_type": "execute_result"
    }
   ],
   "source": [
    "# Checking null vales.\n",
    "pd.isnull(df).sum()"
   ]
  },
  {
   "cell_type": "code",
   "execution_count": 15,
   "id": "0217b513-b636-4198-9f78-2903f43b266a",
   "metadata": {},
   "outputs": [],
   "source": [
    "# Replace the null with 0  in this particular columns because this are succesfully shipped and paid amount by the customer so it is useful  for Data Visuals.\n",
    "# Correct and safe way to replace nulls in selected columns\n",
    "columns_to_update = ['ship-city', 'ship-state', 'ship-postal-code', 'ship-country', 'fulfilled-by']\n",
    "df[columns_to_update] = df[columns_to_update].fillna('0')"
   ]
  },
  {
   "cell_type": "code",
   "execution_count": 16,
   "id": "5eb20fd1-46d2-47e7-9adb-eaaf39bf55d8",
   "metadata": {},
   "outputs": [
    {
     "data": {
      "text/plain": [
       "index                    0\n",
       "Order ID                 0\n",
       "Date                     0\n",
       "Status                   0\n",
       "Fulfilment               0\n",
       "Sales Channel            0\n",
       "ship-service-level       0\n",
       "Category                 0\n",
       "Size                     0\n",
       "Courier Status           0\n",
       "Qty                      0\n",
       "currency              7800\n",
       "Amount                7800\n",
       "ship-city                0\n",
       "ship-state               0\n",
       "ship-postal-code         0\n",
       "ship-country             0\n",
       "B2B                      0\n",
       "fulfilled-by             0\n",
       "dtype: int64"
      ]
     },
     "execution_count": 16,
     "metadata": {},
     "output_type": "execute_result"
    }
   ],
   "source": [
    "pd.isnull(df).sum()"
   ]
  },
  {
   "cell_type": "code",
   "execution_count": 17,
   "id": "f174549d-1ff8-4271-a54d-9728c7a8c2da",
   "metadata": {},
   "outputs": [],
   "source": [
    "# Droping the null values of currency and amount because it is cancelled order so there is no use of it.\n",
    "df.dropna(subset=['currency', 'Amount'], inplace=True)"
   ]
  },
  {
   "cell_type": "code",
   "execution_count": 18,
   "id": "41df7e7e-44c9-4068-82e2-ed2fb05fab09",
   "metadata": {},
   "outputs": [
    {
     "data": {
      "text/plain": [
       "(121176, 19)"
      ]
     },
     "execution_count": 18,
     "metadata": {},
     "output_type": "execute_result"
    }
   ],
   "source": [
    "# checking the shape of Dataframe after deletion\n",
    "df.shape"
   ]
  },
  {
   "cell_type": "code",
   "execution_count": 19,
   "id": "64631b0a-2c85-4367-9392-ed4fce3d2cfa",
   "metadata": {},
   "outputs": [
    {
     "data": {
      "text/plain": [
       "index                 0\n",
       "Order ID              0\n",
       "Date                  0\n",
       "Status                0\n",
       "Fulfilment            0\n",
       "Sales Channel         0\n",
       "ship-service-level    0\n",
       "Category              0\n",
       "Size                  0\n",
       "Courier Status        0\n",
       "Qty                   0\n",
       "currency              0\n",
       "Amount                0\n",
       "ship-city             0\n",
       "ship-state            0\n",
       "ship-postal-code      0\n",
       "ship-country          0\n",
       "B2B                   0\n",
       "fulfilled-by          0\n",
       "dtype: int64"
      ]
     },
     "execution_count": 19,
     "metadata": {},
     "output_type": "execute_result"
    }
   ],
   "source": [
    "# checking is there still any null values.there is no null values now the Data is cleaned.\n",
    "pd.isnull(df).sum()"
   ]
  },
  {
   "cell_type": "code",
   "execution_count": 20,
   "id": "a6b433b6-fb7f-4fe8-bbc4-cb64a7f0c851",
   "metadata": {},
   "outputs": [],
   "source": [
    "# cleaned and Renamed all the columns name in same formate and no spaces.\n",
    "df.columns = ['index', 'order_id', 'date', 'status', 'fulfilment', 'sales_channel',\n",
    "              'ship_service_level', 'category', 'size', 'courier_status', 'qty',\n",
    "              'currency', 'amount', 'ship_city', 'ship_state', 'ship_postal_code',\n",
    "              'ship_country', 'b2b', 'fulfilled_by']"
   ]
  },
  {
   "cell_type": "code",
   "execution_count": 23,
   "id": "f2c3b07d-9064-4cdc-a549-2ef31592ba51",
   "metadata": {},
   "outputs": [
    {
     "data": {
      "text/plain": [
       "index                   int64\n",
       "order_id               object\n",
       "date                   object\n",
       "status                 object\n",
       "fulfilment             object\n",
       "sales_channel          object\n",
       "ship_service_level     object\n",
       "category               object\n",
       "size                   object\n",
       "courier_status         object\n",
       "qty                     int64\n",
       "currency               object\n",
       "amount                float64\n",
       "ship_city              object\n",
       "ship_state             object\n",
       "ship_postal_code        int64\n",
       "ship_country           object\n",
       "b2b                      bool\n",
       "fulfilled_by           object\n",
       "dtype: object"
      ]
     },
     "execution_count": 23,
     "metadata": {},
     "output_type": "execute_result"
    }
   ],
   "source": [
    "# Checking all the columns dtypes.\n",
    "df.dtypes"
   ]
  },
  {
   "cell_type": "code",
   "execution_count": 22,
   "id": "38a6a1db-eb87-4e2b-ae48-f0578a24ac04",
   "metadata": {},
   "outputs": [],
   "source": [
    "# converted column dtype into int dtype.\n",
    "df['ship_postal_code'] = df['ship_postal_code'].astype(int)"
   ]
  },
  {
   "cell_type": "code",
   "execution_count": 25,
   "id": "f55b0a31-dc84-49b6-82aa-94922bd560ac",
   "metadata": {},
   "outputs": [],
   "source": [
    "# Converted date into datetime dtype.\n",
    "df['date'] = pd.to_datetime(df['date'])"
   ]
  },
  {
   "cell_type": "code",
   "execution_count": 26,
   "id": "af00a377-422c-4bb6-8f3f-cd011e1fd7c2",
   "metadata": {},
   "outputs": [],
   "source": [
    "df.to_csv('cleaned_data.csv', index=False)\n"
   ]
  },
  {
   "cell_type": "code",
   "execution_count": null,
   "id": "8dd2e9e5-1a70-4446-8b9a-85ebd13c1fa6",
   "metadata": {},
   "outputs": [],
   "source": []
  }
 ],
 "metadata": {
  "kernelspec": {
   "display_name": "Python 3 (ipykernel)",
   "language": "python",
   "name": "python3"
  },
  "language_info": {
   "codemirror_mode": {
    "name": "ipython",
    "version": 3
   },
   "file_extension": ".py",
   "mimetype": "text/x-python",
   "name": "python",
   "nbconvert_exporter": "python",
   "pygments_lexer": "ipython3",
   "version": "3.13.1"
  }
 },
 "nbformat": 4,
 "nbformat_minor": 5
}
